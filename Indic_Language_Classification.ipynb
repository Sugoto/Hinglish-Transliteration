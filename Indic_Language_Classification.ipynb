{
  "cells": [
    {
      "cell_type": "markdown",
      "metadata": {
        "id": "view-in-github",
        "colab_type": "text"
      },
      "source": [
        "<a href=\"https://colab.research.google.com/github/Sugoto/Hinglish-Transliteration/blob/main/Indic_Language_Classification.ipynb\" target=\"_parent\"><img src=\"https://colab.research.google.com/assets/colab-badge.svg\" alt=\"Open In Colab\"/></a>"
      ]
    },
    {
      "cell_type": "markdown",
      "source": [
        "## Importing necessary libraries"
      ],
      "metadata": {
        "id": "mjCbqEyOXAFr"
      }
    },
    {
      "cell_type": "code",
      "source": [
        "import numpy as np\n",
        "import pandas as pd\n",
        "import matplotlib.pyplot as plt\n",
        "import seaborn as sns\n",
        "\n",
        "from sklearn.feature_extraction.text import CountVectorizer\n",
        "from sklearn.svm import LinearSVC\n",
        "from sklearn.model_selection import StratifiedKFold\n",
        "from sklearn.metrics import accuracy_score\n",
        "from sklearn.metrics import confusion_matrix"
      ],
      "metadata": {
        "id": "DOxp2wdbuEfU"
      },
      "execution_count": null,
      "outputs": []
    },
    {
      "cell_type": "markdown",
      "source": [
        "## Loading and preprocessing data"
      ],
      "metadata": {
        "id": "NSMgt6i-XWse"
      }
    },
    {
      "cell_type": "code",
      "source": [
        "data = pd.read_csv('sentences.csv')\n",
        "\n",
        "train_data = data.sample(frac=0.9, random_state=42)\n",
        "test_data = data.drop(train_data.index)\n",
        "\n",
        "vectorizer = CountVectorizer()\n",
        "X_train = vectorizer.fit_transform(train_data['sentence'])\n",
        "X_test = vectorizer.transform(test_data['sentence'])\n",
        "\n",
        "y_train = train_data['language']\n",
        "y_test = test_data['language']"
      ],
      "metadata": {
        "id": "B04lhix9HaNF"
      },
      "execution_count": null,
      "outputs": []
    },
    {
      "cell_type": "markdown",
      "source": [
        "## Training and evaluating the SVM model "
      ],
      "metadata": {
        "id": "U8GrM8iiXYpK"
      }
    },
    {
      "cell_type": "code",
      "source": [
        "clf = LinearSVC()\n",
        "clf.fit(X_train, y_train)\n",
        "X = vectorizer.transform(data['sentence'])\n",
        "y = data['language']\n",
        "y_pred = clf.predict(X_test)\n",
        "cm = confusion_matrix(y_test, y_pred)\n",
        "\n",
        "cm = cm.astype('float') / cm.sum(axis=1)[:, np.newaxis]\n",
        "fig, ax = plt.subplots(figsize=(7, 7))\n",
        "sns.heatmap(cm, annot=True, fmt='.2%', cmap='Blues', xticklabels=clf.classes_, yticklabels=clf.classes_)\n",
        "plt.ylabel('Actual')\n",
        "plt.xlabel('Predicted')\n",
        "plt.show()\n",
        "\n",
        "skf = StratifiedKFold(n_splits=10)\n",
        "\n",
        "scores = []\n",
        "for train_index, test_index in skf.split(X, y):\n",
        "    X_train, X_test = X[train_index], X[test_index]\n",
        "    y_train, y_test = y[train_index], y[test_index]\n",
        "\n",
        "    clf.fit(X_train, y_train)\n",
        "    y_pred = clf.predict(X_test)\n",
        "    score = accuracy_score(y_test, y_pred)\n",
        "    scores.append(score)\n",
        "\n",
        "print('K-fold Accuracy: {:.4f}% (+/- {:.4f})'.format(sum(scores) / len(scores) * 100, 2 * (max(scores) - min(scores)) * 100))\n",
        "best_score = max(scores)\n",
        "print('Best accuracy: {:.4f}%'.format(best_score * 100))"
      ],
      "metadata": {
        "colab": {
          "base_uri": "https://localhost:8080/",
          "height": 477
        },
        "id": "oCBdMOynHhR9",
        "outputId": "c26c7cf9-d9b5-404f-d6c4-cc4657898521"
      },
      "execution_count": null,
      "outputs": [
        {
          "output_type": "display_data",
          "data": {
            "text/plain": [
              "<Figure size 504x504 with 2 Axes>"
            ],
            "image/png": "[encoded data removed]"
          },
          "metadata": {
            "needs_background": "light"
          }
        },
        {
          "output_type": "stream",
          "name": "stdout",
          "text": [
            "K-fold Accuracy: 88.7902% (+/- 31.3131)\n",
            "Best accuracy: 92.1717%\n"
          ]
        }
      ]
    },
    {
      "cell_type": "markdown",
      "source": [
        "## Using the trained model to predict the language of each word in a sentence entered by the user"
      ],
      "metadata": {
        "id": "7YfICc2UXsYw"
      }
    },
    {
      "cell_type": "code",
      "source": [
        "new_sentence = input(\"\\nEnter a sentence: \")\n",
        "new_words = new_sentence.split()\n",
        "\n",
        "label_counts = {'eng': 0, 'ben': 0, 'hin': 0, 'tam': 0, 'tel': 0, 'guj': 0, 'mar': 0}\n",
        "total_words = 0\n",
        "\n",
        "for word in new_words:\n",
        "    if all(ord(c) < 128 for c in word):\n",
        "        label = 'eng'\n",
        "    else:\n",
        "        word_features = vectorizer.transform([word])\n",
        "        label = clf.predict(word_features)[0]\n",
        "\n",
        "    label_counts[label] += 1\n",
        "    total_words += 1\n",
        "    print(word, ':', label)\n",
        "\n",
        "print('\\nTotal words:', total_words)\n",
        "for label, count in label_counts.items():\n",
        "    if count > 0:\n",
        "        print(label, ':', count)"
      ],
      "metadata": {
        "colab": {
          "base_uri": "https://localhost:8080/"
        },
        "id": "jQVh_HIHHm99",
        "outputId": "51b08718-e0f6-42bb-d831-75e348692d02"
      },
      "execution_count": null,
      "outputs": [
        {
          "output_type": "stream",
          "name": "stdout",
          "text": [
            "\n",
            "Enter a sentence: l\n",
            "l : eng\n",
            "\n",
            "Total words: 1\n",
            "eng : 1\n"
          ]
        }
      ]
    }
  ],
  "metadata": {
    "kernelspec": {
      "display_name": "Python 3",
      "language": "python",
      "name": "python3"
    },
    "language_info": {
      "codemirror_mode": {
        "name": "ipython",
        "version": 3
      },
      "file_extension": ".py",
      "mimetype": "text/x-python",
      "name": "python",
      "nbconvert_exporter": "python",
      "pygments_lexer": "ipython3",
      "version": "3.6.8"
    },
    "colab": {
      "provenance": [],
      "include_colab_link": true
    },
    "gpuClass": "standard"
  },
  "nbformat": 4,
  "nbformat_minor": 0
}